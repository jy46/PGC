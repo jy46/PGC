{
 "cells": [
  {
   "cell_type": "code",
   "execution_count": 1,
   "metadata": {},
   "outputs": [
    {
     "name": "stderr",
     "output_type": "stream",
     "text": [
      "/Users/joe/anaconda3/lib/python3.6/site-packages/h5py/__init__.py:36: FutureWarning: Conversion of the second argument of issubdtype from `float` to `np.floating` is deprecated. In future, it will be treated as `np.float64 == np.dtype(float).type`.\n",
      "  from ._conv import register_converters as _register_converters\n"
     ]
    }
   ],
   "source": [
    "# IMPORTS\n",
    "import numpy as np\n",
    "from CCMI import CCMI"
   ]
  },
  {
   "cell_type": "code",
   "execution_count": 2,
   "metadata": {},
   "outputs": [
    {
     "name": "stdout",
     "output_type": "stream",
     "text": [
      "[[1.  0.  0.  0.  0.5 0.  0.  0. ]\n",
      " [0.  1.  0.  0.  0.  0.5 0.  0. ]\n",
      " [0.  0.  1.  0.  0.  0.  0.5 0. ]\n",
      " [0.  0.  0.  1.  0.  0.  0.  0.5]\n",
      " [0.5 0.  0.  0.  1.  0.  0.  0. ]\n",
      " [0.  0.5 0.  0.  0.  1.  0.  0. ]\n",
      " [0.  0.  0.5 0.  0.  0.  1.  0. ]\n",
      " [0.  0.  0.  0.5 0.  0.  0.  1. ]]\n"
     ]
    }
   ],
   "source": [
    "# PARAMETERS\n",
    "num_trials = 10\n",
    "B = 10\n",
    "N = 1000\n",
    "\n",
    "cov_mat = np.eye(8)\n",
    "for ii in range(4):\n",
    "    cov_mat[ii,ii+4] = 0.5\n",
    "    cov_mat[ii+4,ii] = 0.5\n",
    "print(cov_mat)"
   ]
  },
  {
   "cell_type": "code",
   "execution_count": 3,
   "metadata": {},
   "outputs": [
    {
     "name": "stderr",
     "output_type": "stream",
     "text": [
      "WARNING: Logging before flag parsing goes to stderr.\n",
      "W1028 21:03:07.897188 4459421120 deprecation_wrapper.py:119] From /Users/joe/GPC/CCMI.py:79: The name tf.reset_default_graph is deprecated. Please use tf.compat.v1.reset_default_graph instead.\n",
      "\n",
      "W1028 21:03:07.898586 4459421120 deprecation_wrapper.py:119] From /Users/joe/GPC/Classifier_MI.py:66: The name tf.placeholder is deprecated. Please use tf.compat.v1.placeholder instead.\n",
      "\n",
      "W1028 21:03:07.903250 4459421120 deprecation_wrapper.py:119] From /Users/joe/GPC/Classifier_MI.py:49: The name tf.variable_scope is deprecated. Please use tf.compat.v1.variable_scope instead.\n",
      "\n"
     ]
    },
    {
     "name": "stdout",
     "output_type": "stream",
     "text": [
      "0\n",
      "Tester = Classifier, metric = donsker_varadhan\n"
     ]
    },
    {
     "name": "stderr",
     "output_type": "stream",
     "text": [
      "W1028 21:03:08.261717 4459421120 deprecation.py:323] From /Users/joe/anaconda3/lib/python3.6/site-packages/tensorflow/python/ops/nn_impl.py:180: add_dispatch_support.<locals>.wrapper (from tensorflow.python.ops.array_ops) is deprecated and will be removed in a future version.\n",
      "Instructions for updating:\n",
      "Use tf.where in 2.0, which has the same broadcast rule as np.where\n",
      "W1028 21:03:08.268328 4459421120 deprecation_wrapper.py:119] From /Users/joe/GPC/Classifier_MI.py:71: The name tf.losses.get_regularization_loss is deprecated. Please use tf.compat.v1.losses.get_regularization_loss instead.\n",
      "\n",
      "W1028 21:03:08.276659 4459421120 deprecation_wrapper.py:119] From /Users/joe/GPC/Classifier_MI.py:81: The name tf.train.AdamOptimizer is deprecated. Please use tf.compat.v1.train.AdamOptimizer instead.\n",
      "\n",
      "W1028 21:03:08.457025 4459421120 deprecation_wrapper.py:119] From /Users/joe/GPC/Classifier_MI.py:84: The name tf.ConfigProto is deprecated. Please use tf.compat.v1.ConfigProto instead.\n",
      "\n",
      "W1028 21:03:08.458045 4459421120 deprecation_wrapper.py:119] From /Users/joe/GPC/Classifier_MI.py:87: The name tf.Session is deprecated. Please use tf.compat.v1.Session instead.\n",
      "\n"
     ]
    },
    {
     "name": "stdout",
     "output_type": "stream",
     "text": [
      "1\n",
      "Tester = Classifier, metric = donsker_varadhan\n",
      "2\n",
      "Tester = Classifier, metric = donsker_varadhan\n",
      "3\n",
      "Tester = Classifier, metric = donsker_varadhan\n",
      "4\n",
      "Tester = Classifier, metric = donsker_varadhan\n",
      "5\n",
      "Tester = Classifier, metric = donsker_varadhan\n",
      "6\n",
      "Tester = Classifier, metric = donsker_varadhan\n",
      "7\n",
      "Tester = Classifier, metric = donsker_varadhan\n",
      "8\n",
      "Tester = Classifier, metric = donsker_varadhan\n",
      "9\n",
      "Tester = Classifier, metric = donsker_varadhan\n"
     ]
    }
   ],
   "source": [
    "# ESTIMATE \n",
    "cmi_est = np.zeros((num_trials,1))\n",
    "for ii in range(num_trials):\n",
    "    print(ii)          \n",
    "    # GENERATE\n",
    "    X = np.random.multivariate_normal(np.zeros((12,)), np.eye(12), N)\n",
    "    X[:,:8] = np.random.multivariate_normal(np.zeros((8,)), cov_mat, N)\n",
    "                   \n",
    "    # ESTIMATE\n",
    "    cmi_est[ii] = CCMI(X[:,:4],\n",
    "                                      X[:,4:8],\n",
    "                                      X[:,8:],\n",
    "                                      tester = 'Classifier',\n",
    "                                      metric = 'donsker_varadhan',\n",
    "                                      num_boot_iter = B,\n",
    "                                      h_dim = 64, max_ep = 20).get_cmi_est()"
   ]
  },
  {
   "cell_type": "code",
   "execution_count": 4,
   "metadata": {},
   "outputs": [
    {
     "name": "stdout",
     "output_type": "stream",
     "text": [
      "0.47709478437900543\n"
     ]
    }
   ],
   "source": [
    "# PRINT RESULT\n",
    "print(np.mean(cmi_est))"
   ]
  }
 ],
 "metadata": {
  "kernelspec": {
   "display_name": "Python 3",
   "language": "python",
   "name": "python3"
  },
  "language_info": {
   "codemirror_mode": {
    "name": "ipython",
    "version": 3
   },
   "file_extension": ".py",
   "mimetype": "text/x-python",
   "name": "python",
   "nbconvert_exporter": "python",
   "pygments_lexer": "ipython3",
   "version": "3.7.6"
  }
 },
 "nbformat": 4,
 "nbformat_minor": 2
}

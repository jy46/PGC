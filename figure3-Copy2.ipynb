{
 "cells": [
  {
   "cell_type": "code",
   "execution_count": 1,
   "metadata": {},
   "outputs": [
    {
     "name": "stderr",
     "output_type": "stream",
     "text": [
      "/home/jy46/anaconda3/envs/tf/lib/python3.7/site-packages/tensorflow/python/framework/dtypes.py:516: FutureWarning: Passing (type, 1) or '1type' as a synonym of type is deprecated; in a future version of numpy, it will be understood as (type, (1,)) / '(1,)type'.\n",
      "  _np_qint8 = np.dtype([(\"qint8\", np.int8, 1)])\n",
      "/home/jy46/anaconda3/envs/tf/lib/python3.7/site-packages/tensorflow/python/framework/dtypes.py:517: FutureWarning: Passing (type, 1) or '1type' as a synonym of type is deprecated; in a future version of numpy, it will be understood as (type, (1,)) / '(1,)type'.\n",
      "  _np_quint8 = np.dtype([(\"quint8\", np.uint8, 1)])\n",
      "/home/jy46/anaconda3/envs/tf/lib/python3.7/site-packages/tensorflow/python/framework/dtypes.py:518: FutureWarning: Passing (type, 1) or '1type' as a synonym of type is deprecated; in a future version of numpy, it will be understood as (type, (1,)) / '(1,)type'.\n",
      "  _np_qint16 = np.dtype([(\"qint16\", np.int16, 1)])\n",
      "/home/jy46/anaconda3/envs/tf/lib/python3.7/site-packages/tensorflow/python/framework/dtypes.py:519: FutureWarning: Passing (type, 1) or '1type' as a synonym of type is deprecated; in a future version of numpy, it will be understood as (type, (1,)) / '(1,)type'.\n",
      "  _np_quint16 = np.dtype([(\"quint16\", np.uint16, 1)])\n",
      "/home/jy46/anaconda3/envs/tf/lib/python3.7/site-packages/tensorflow/python/framework/dtypes.py:520: FutureWarning: Passing (type, 1) or '1type' as a synonym of type is deprecated; in a future version of numpy, it will be understood as (type, (1,)) / '(1,)type'.\n",
      "  _np_qint32 = np.dtype([(\"qint32\", np.int32, 1)])\n",
      "/home/jy46/anaconda3/envs/tf/lib/python3.7/site-packages/tensorflow/python/framework/dtypes.py:525: FutureWarning: Passing (type, 1) or '1type' as a synonym of type is deprecated; in a future version of numpy, it will be understood as (type, (1,)) / '(1,)type'.\n",
      "  np_resource = np.dtype([(\"resource\", np.ubyte, 1)])\n",
      "/home/jy46/anaconda3/envs/tf/lib/python3.7/site-packages/tensorboard/compat/tensorflow_stub/dtypes.py:541: FutureWarning: Passing (type, 1) or '1type' as a synonym of type is deprecated; in a future version of numpy, it will be understood as (type, (1,)) / '(1,)type'.\n",
      "  _np_qint8 = np.dtype([(\"qint8\", np.int8, 1)])\n",
      "/home/jy46/anaconda3/envs/tf/lib/python3.7/site-packages/tensorboard/compat/tensorflow_stub/dtypes.py:542: FutureWarning: Passing (type, 1) or '1type' as a synonym of type is deprecated; in a future version of numpy, it will be understood as (type, (1,)) / '(1,)type'.\n",
      "  _np_quint8 = np.dtype([(\"quint8\", np.uint8, 1)])\n",
      "/home/jy46/anaconda3/envs/tf/lib/python3.7/site-packages/tensorboard/compat/tensorflow_stub/dtypes.py:543: FutureWarning: Passing (type, 1) or '1type' as a synonym of type is deprecated; in a future version of numpy, it will be understood as (type, (1,)) / '(1,)type'.\n",
      "  _np_qint16 = np.dtype([(\"qint16\", np.int16, 1)])\n",
      "/home/jy46/anaconda3/envs/tf/lib/python3.7/site-packages/tensorboard/compat/tensorflow_stub/dtypes.py:544: FutureWarning: Passing (type, 1) or '1type' as a synonym of type is deprecated; in a future version of numpy, it will be understood as (type, (1,)) / '(1,)type'.\n",
      "  _np_quint16 = np.dtype([(\"quint16\", np.uint16, 1)])\n",
      "/home/jy46/anaconda3/envs/tf/lib/python3.7/site-packages/tensorboard/compat/tensorflow_stub/dtypes.py:545: FutureWarning: Passing (type, 1) or '1type' as a synonym of type is deprecated; in a future version of numpy, it will be understood as (type, (1,)) / '(1,)type'.\n",
      "  _np_qint32 = np.dtype([(\"qint32\", np.int32, 1)])\n",
      "/home/jy46/anaconda3/envs/tf/lib/python3.7/site-packages/tensorboard/compat/tensorflow_stub/dtypes.py:550: FutureWarning: Passing (type, 1) or '1type' as a synonym of type is deprecated; in a future version of numpy, it will be understood as (type, (1,)) / '(1,)type'.\n",
      "  np_resource = np.dtype([(\"resource\", np.ubyte, 1)])\n"
     ]
    }
   ],
   "source": [
    "# IMPORTS\n",
    "import PGC\n",
    "from scipy import signal\n",
    "import numpy as np\n",
    "import numpy.matlib as npm\n",
    "import matplotlib.pyplot as plt\n",
    "import seaborn as sns\n",
    "import math\n",
    "import matplotlib"
   ]
  },
  {
   "cell_type": "code",
   "execution_count": 2,
   "metadata": {
    "collapsed": true
   },
   "outputs": [],
   "source": [
    "# FONT SIZE FOR FIGURES\n",
    "matplotlib.rcParams.update({'font.size': 14})"
   ]
  },
  {
   "cell_type": "code",
   "execution_count": 3,
   "metadata": {
    "collapsed": true
   },
   "outputs": [],
   "source": [
    "# PARAMETERS\n",
    "\n",
    "# Time parameters\n",
    "time_step = 1/32\n",
    "time_max = (1-time_step)\n",
    "\n",
    "# Number of trials\n",
    "num_trials = int(1e4)\n",
    "\n",
    "# Number of bootstrap iterations\n",
    "num_boot_iter = 100\n",
    "\n",
    "# Frequency for time processes\n",
    "f0 = 2;\n",
    "\n",
    "# Scales for Rayleigh RVs for X, W, and Z amplitude\n",
    "X_scale = 1\n",
    "W_scale = 1\n",
    "Z_scale = 1"
   ]
  },
  {
   "cell_type": "code",
   "execution_count": 4,
   "metadata": {
    "collapsed": true
   },
   "outputs": [],
   "source": [
    "# GENERATE TIME (include time_max in time by adding one additional time_step)\n",
    "time = np.arange(0,time_max+time_step,time_step)\n",
    "time_array = npm.repmat(time[:, None].T,num_trials,1)"
   ]
  },
  {
   "cell_type": "code",
   "execution_count": 5,
   "metadata": {
    "collapsed": true
   },
   "outputs": [],
   "source": [
    "# GENERATE THREE PROCESSES\n",
    "# First generate random amplitudes\n",
    "X_amp = npm.repmat(np.random.rayleigh(X_scale,(num_trials,1)),1,len(time))\n",
    "W_amp = npm.repmat(np.random.rayleigh(W_scale,(num_trials,1)),1,len(time))\n",
    "Z_amp = npm.repmat(np.random.rayleigh(Z_scale,(num_trials,1)),1,len(time))\n",
    "\n",
    "# Next generate random phases\n",
    "X_phase = npm.repmat(2*math.pi*np.random.uniform(size=(num_trials,1)),1,len(time))\n",
    "W_phase = npm.repmat(2*math.pi*np.random.uniform(size=(num_trials,1)),1,len(time))\n",
    "Z_phase = npm.repmat(2*math.pi*np.random.uniform(size=(num_trials,1)),1,len(time))\n",
    "\n",
    "# Now generate random processes\n",
    "X = X_amp*np.cos((2*math.pi*f0*time_array)+X_phase)\n",
    "#W = np.sqrt(0.5)*X+np.sqrt(0.5)*W_amp*np.cos((2*math.pi*f0*time_array)+W_phase)\n",
    "#Z = np.sqrt(0.5)*W+np.sqrt(0.5)*Z_amp*np.cos((2*math.pi*f0*time_array)+Z_phase)\n",
    "W = X+W_amp*np.cos((2*math.pi*f0*time_array)+W_phase)\n",
    "Z = W+Z_amp*np.cos((2*math.pi*f0*time_array)+Z_phase)\n",
    "\n",
    "X = X + (0.001)*np.random.normal(size=(X_phase.shape))\n",
    "W = W + (0.001)*np.random.normal(size=(X_phase.shape))\n",
    "Z = Z + (0.001)*np.random.normal(size=(X_phase.shape))"
   ]
  },
  {
   "cell_type": "code",
   "execution_count": null,
   "metadata": {
    "scrolled": true
   },
   "outputs": [],
   "source": [
    "# ESTIMATE COH, PCOH, MIF, & PGC\n",
    "data = np.stack((X,W,Z),axis=0)\n",
    "f = np.fft.fftfreq(len(time),time_step)\n",
    "\n",
    "f_of_interest = np.where(f0==f)[0][0]\n",
    "\n",
    "P, C = PGC.pcoh(data,time_step,time_max)\n",
    "C[np.eye(C.shape[0]).astype(bool)]=0\n",
    "P[np.eye(P.shape[0]).astype(bool)]=0\n",
    "\n",
    "MIF = PGC.pgc(data,num_boot_iter,f_of_interest)\n",
    "PGC = PGC.pgc(data,num_boot_iter,f_of_interest,f_of_interest,f_of_interest)"
   ]
  },
  {
   "cell_type": "code",
   "execution_count": 7,
   "metadata": {
    "collapsed": true
   },
   "outputs": [],
   "source": [
    "# LOG TRANSFORMATION OF COHERENCE & PARTIAL COHERENCE\n",
    "C_log = -np.log(1-C)\n",
    "P_log = -np.log(1-P)"
   ]
  },
  {
   "cell_type": "code",
   "execution_count": 8,
   "metadata": {
    "collapsed": true
   },
   "outputs": [],
   "source": [
    "spectral_matrix = np.zeros((3,3))\n",
    "spectral_matrix[0,1] = np.log(1+((X_scale**2)/(W_scale**2)))\n",
    "spectral_matrix[1,0] = spectral_matrix[0,1]\n",
    "spectral_matrix[1,2] = np.log(1+(((X_scale**2)+(W_scale**2))/(Z_scale**2)))\n",
    "spectral_matrix[2,1] = spectral_matrix[1,2]\n",
    "spectral_matrix[0,2] = np.log(1+((X_scale**2)/((Z_scale**2)+(W_scale**2))))\n",
    "spectral_matrix[2,0] = spectral_matrix[0,2]"
   ]
  },
  {
   "cell_type": "code",
   "execution_count": 9,
   "metadata": {
    "collapsed": true
   },
   "outputs": [],
   "source": [
    "# TRUE MIF VALUES\n",
    "MIF_true = np.zeros((data.shape[0],data.shape[0]))\n",
    "MIF_true[0,1] = np.log(1+((X_scale**2)/(W_scale**2)))\n",
    "MIF_true[1,0] = MIF_true[0,1]\n",
    "MIF_true[1,2] = np.log(1+(((X_scale**2)+(W_scale**2))/(Z_scale**2)))\n",
    "MIF_true[2,1] = MIF_true[1,2]\n",
    "MIF_true[0,2] = np.log(1+((X_scale**2)/((Z_scale**2)+(W_scale**2))))\n",
    "MIF_true[2,0] = MIF_true[0,2]"
   ]
  },
  {
   "cell_type": "code",
   "execution_count": 10,
   "metadata": {},
   "outputs": [
    {
     "name": "stderr",
     "output_type": "stream",
     "text": [
      "/home/jy46/anaconda3/envs/tf/lib/python3.7/site-packages/ipykernel_launcher.py:7: RuntimeWarning: divide by zero encountered in log\n",
      "  import sys\n"
     ]
    },
    {
     "data": {
      "text/plain": [
       "array([[ 0.        ,  0.28768207, -0.        ],\n",
       "       [ 0.28768207,  0.        ,  0.69314718],\n",
       "       [-0.        ,  0.69314718,  0.        ]])"
      ]
     },
     "execution_count": 10,
     "metadata": {},
     "output_type": "execute_result"
    }
   ],
   "source": [
    "# TRUE PGC\n",
    "from scipy.linalg import fractional_matrix_power\n",
    "S_mat = 0.5*np.asarray([[1,1,1],[1,2,2],[1,2,3]])\n",
    "S_mat_inv = np.linalg.inv(S_mat)\n",
    "denom = npm.repmat(np.diag(S_mat_inv),3,1)*(npm.repmat(np.diag(S_mat_inv),3,1).T)\n",
    "P_mat = -S_mat_inv/np.sqrt(denom)\n",
    "PGC_true = -np.log(1-(P_mat)**2)\n",
    "PGC_true[0,0]=0\n",
    "PGC_true[1,1]=0\n",
    "PGC_true[2,2]=0\n",
    "PGC_true"
   ]
  },
  {
   "cell_type": "code",
   "execution_count": 11,
   "metadata": {},
   "outputs": [
    {
     "data": {
      "image/png": "[encoded data removed]",
      "text/plain": [
       "<Figure size 1224x576 with 6 Axes>"
      ]
     },
     "metadata": {
      "needs_background": "light"
     },
     "output_type": "display_data"
    }
   ],
   "source": [
    "# PLOT RESULTS\n",
    "\n",
    "# FONT SIZE FOR FIGURES\n",
    "matplotlib.rcParams.update({'font.size': 18})\n",
    "\n",
    "f_plt, ax = plt.subplots(figsize=(17, 8));\n",
    "f_plt.tight_layout()\n",
    "\n",
    "lw=1\n",
    "max_val = np.max(np.stack((MIF_true,PGC_true,MIF,PGC,np.squeeze(C_log[:,:,f==f0]),\n",
    "                           np.squeeze(P_log[:,:,f==f0]))))\n",
    "\n",
    "ax = plt.subplot(231)\n",
    "sns.heatmap(np.squeeze(C_log[:,:,f==f0]),square=True,cmap=\"Blues\",vmax=max_val,vmin=0,\n",
    "            linewidths=lw,cbar=False)\n",
    "plt.title('Transformed Coherence')\n",
    "plt.xticks([0.5,1.5,2.5],['X','W','Z'])\n",
    "plt.yticks([0.5,1.5,2.5],['X','W','Z'],rotation=0)\n",
    "ax.tick_params(axis=u'both', which=u'both',length=0)\n",
    "plt.ylim((3,0));\n",
    "\n",
    "ax = plt.subplot(234)\n",
    "sns.heatmap(np.squeeze(P_log[:,:,f==f0]),square=True,cmap=\"Blues\",vmax=max_val,vmin=0,\n",
    "            linewidths=lw,cbar=False)\n",
    "plt.title('Transformed Partial Coherence')\n",
    "plt.xticks([0.5,1.5,2.5],['X','W','Z'])\n",
    "plt.yticks([0.5,1.5,2.5],['X','W','Z'],rotation=0)\n",
    "ax.tick_params(axis=u'both', which=u'both',length=0)\n",
    "plt.ylim((3,0));\n",
    "\n",
    "ax = plt.subplot(232)\n",
    "sns.heatmap(MIF,square=True,cmap=\"Blues\",vmax=max_val,vmin=0,\n",
    "            linewidths=lw,cbar=False)\n",
    "plt.title('MIF')\n",
    "plt.xticks([0.5,1.5,2.5],['X','W','Z'])\n",
    "plt.yticks([0.5,1.5,2.5],['X','W','Z'],rotation=0)\n",
    "ax.tick_params(axis=u'both', which=u'both',length=0)\n",
    "plt.ylim((3,0));\n",
    "\n",
    "ax = plt.subplot(235)\n",
    "sns.heatmap(PGC,square=True,cmap=\"Blues\",vmax=max_val,vmin=0,\n",
    "            linewidths=lw,cbar=False)\n",
    "plt.title('PGC')\n",
    "plt.xticks([0.5,1.5,2.5],['X','W','Z'])\n",
    "plt.yticks([0.5,1.5,2.5],['X','W','Z'],rotation=0)\n",
    "ax.tick_params(axis=u'both', which=u'both',length=0)\n",
    "plt.ylim((3,0));\n",
    "\n",
    "ax = plt.subplot(233)\n",
    "sns.heatmap(MIF_true,square=True,cmap=\"Blues\",vmax=max_val,vmin=0,\n",
    "            linewidths=lw,cbar=False)\n",
    "plt.title('True FC')\n",
    "plt.xticks([0.5,1.5,2.5],['X','W','Z'])\n",
    "plt.yticks([0.5,1.5,2.5],['X','W','Z'],rotation=0)\n",
    "ax.tick_params(axis=u'both', which=u'both',length=0)\n",
    "plt.ylim((3,0));\n",
    "\n",
    "ax = plt.subplot(236)\n",
    "sns.heatmap(PGC_true,square=True,cmap=\"Blues\",vmax=max_val,vmin=0,\n",
    "            linewidths=lw,cbar=False)\n",
    "plt.title('True PFC')\n",
    "plt.xticks([0.5,1.5,2.5],['X','W','Z'])\n",
    "plt.yticks([0.5,1.5,2.5],['X','W','Z'],rotation=0)\n",
    "ax.tick_params(axis=u'both', which=u'both',length=0);\n",
    "plt.ylim((3,0));\n",
    "\n",
    "plt.savefig('figure3.pdf');"
   ]
  },
  {
   "cell_type": "code",
   "execution_count": 12,
   "metadata": {},
   "outputs": [
    {
     "data": {
      "image/png": "[encoded data removed]",
      "text/plain": [
       "<Figure size 1224x576 with 7 Axes>"
      ]
     },
     "metadata": {
      "needs_background": "light"
     },
     "output_type": "display_data"
    }
   ],
   "source": [
    "# PLOT RESULTS\n",
    "\n",
    "# FONT SIZE FOR FIGURES\n",
    "matplotlib.rcParams.update({'font.size': 18})\n",
    "\n",
    "f_plt, ax = plt.subplots(figsize=(17, 8));\n",
    "f_plt.tight_layout()\n",
    "\n",
    "lw=1\n",
    "max_val = np.max(np.stack((MIF_true,PGC_true,MIF,PGC,np.squeeze(C_log[:,:,f==f0]),\n",
    "                           np.squeeze(P_log[:,:,f==f0]))))\n",
    "\n",
    "ax = plt.subplot(231)\n",
    "sns.heatmap(np.squeeze(C_log[:,:,f==f0]),square=True,cmap=\"Blues\",vmax=max_val,vmin=0,\n",
    "            linewidths=lw,cbar=True)\n",
    "plt.title('Transformed Coherence')\n",
    "plt.xticks([0.5,1.5,2.5],['X','W','Z'])\n",
    "plt.yticks([0.5,1.5,2.5],['X','W','Z'],rotation=0)\n",
    "ax.tick_params(axis=u'both', which=u'both',length=0)\n",
    "plt.ylim((3,0));\n",
    "\n",
    "ax = plt.subplot(234)\n",
    "sns.heatmap(np.squeeze(P_log[:,:,f==f0]),square=True,cmap=\"Blues\",vmax=max_val,vmin=0,\n",
    "            linewidths=lw,cbar=False)\n",
    "plt.title('Transformed Partial Coherence')\n",
    "plt.xticks([0.5,1.5,2.5],['X','W','Z'])\n",
    "plt.yticks([0.5,1.5,2.5],['X','W','Z'],rotation=0)\n",
    "ax.tick_params(axis=u'both', which=u'both',length=0)\n",
    "plt.ylim((3,0));\n",
    "\n",
    "ax = plt.subplot(232)\n",
    "sns.heatmap(MIF,square=True,cmap=\"Blues\",vmax=max_val,vmin=0,\n",
    "            linewidths=lw,cbar=False)\n",
    "plt.title('MIF')\n",
    "plt.xticks([0.5,1.5,2.5],['X','W','Z'])\n",
    "plt.yticks([0.5,1.5,2.5],['X','W','Z'],rotation=0)\n",
    "ax.tick_params(axis=u'both', which=u'both',length=0)\n",
    "plt.ylim((3,0));\n",
    "\n",
    "ax = plt.subplot(235)\n",
    "sns.heatmap(PGC,square=True,cmap=\"Blues\",vmax=max_val,vmin=0,\n",
    "            linewidths=lw,cbar=False)\n",
    "plt.title('PGC')\n",
    "plt.xticks([0.5,1.5,2.5],['X','W','Z'])\n",
    "plt.yticks([0.5,1.5,2.5],['X','W','Z'],rotation=0)\n",
    "ax.tick_params(axis=u'both', which=u'both',length=0)\n",
    "plt.ylim((3,0));\n",
    "\n",
    "ax = plt.subplot(233)\n",
    "sns.heatmap(MIF_true,square=True,cmap=\"Blues\",vmax=max_val,vmin=0,\n",
    "            linewidths=lw,cbar=False)\n",
    "plt.title('True FC')\n",
    "plt.xticks([0.5,1.5,2.5],['X','W','Z'])\n",
    "plt.yticks([0.5,1.5,2.5],['X','W','Z'],rotation=0)\n",
    "ax.tick_params(axis=u'both', which=u'both',length=0)\n",
    "plt.ylim((3,0));\n",
    "\n",
    "ax = plt.subplot(236)\n",
    "sns.heatmap(PGC_true,square=True,cmap=\"Blues\",vmax=max_val,vmin=0,\n",
    "            linewidths=lw,cbar=False)\n",
    "plt.title('True PFC')\n",
    "plt.xticks([0.5,1.5,2.5],['X','W','Z'])\n",
    "plt.yticks([0.5,1.5,2.5],['X','W','Z'],rotation=0)\n",
    "ax.tick_params(axis=u'both', which=u'both',length=0);\n",
    "plt.ylim((3,0));\n",
    "\n",
    "plt.savefig('figure3_colorbar.pdf');"
   ]
  },
  {
   "cell_type": "code",
   "execution_count": 13,
   "metadata": {
    "collapsed": true
   },
   "outputs": [],
   "source": [
    "from scipy.io import savemat\n",
    "data_to_save = {\"C_log\": C_log, \"P_log\": P_log, \n",
    "        \"MIF\": MIF, \"PGC\":PGC, \"MIF_true\":MIF_true, \"PGC_true\":PGC_true }\n",
    "savemat(\"data.mat\", data_to_save)"
   ]
  }
 ],
 "metadata": {
  "kernelspec": {
   "display_name": "Python 3",
   "language": "python",
   "name": "python3"
  },
  "language_info": {
   "codemirror_mode": {
    "name": "ipython",
    "version": 3
   },
   "file_extension": ".py",
   "mimetype": "text/x-python",
   "name": "python",
   "nbconvert_exporter": "python",
   "pygments_lexer": "ipython3",
   "version": "3.7.4"
  }
 },
 "nbformat": 4,
 "nbformat_minor": 2
}
